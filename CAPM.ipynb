{
 "cells": [
  {
   "cell_type": "code",
   "execution_count": 1,
   "metadata": {},
   "outputs": [],
   "source": [
    "import pandas as pd\n",
    "import numpy as np\n",
    "import scipy.stats as si"
   ]
  },
  {
   "cell_type": "code",
   "execution_count": 2,
   "metadata": {},
   "outputs": [],
   "source": [
    "RF = 0.02 # Risk-free rate"
   ]
  },
  {
   "cell_type": "code",
   "execution_count": 3,
   "metadata": {},
   "outputs": [],
   "source": [
    "# Stock A\n",
    "mean1 = 0.08 # Exp Return\n",
    "vol1 = 0.1 # Std Deviation\n",
    "varia1 = vol1**2 # Variance"
   ]
  },
  {
   "cell_type": "code",
   "execution_count": 4,
   "metadata": {},
   "outputs": [],
   "source": [
    "# Stock B\n",
    "mean2 = 0.14 # Exp Return\n",
    "vol2 = 0.2 # Std Deviation\n",
    "varia2 = vol2**2 # Variance"
   ]
  },
  {
   "cell_type": "code",
   "execution_count": 5,
   "metadata": {},
   "outputs": [],
   "source": [
    "Corr = 0.2 # Correlation\n",
    "cov = vol1*vol2*Corr # Covariance"
   ]
  },
  {
   "cell_type": "markdown",
   "metadata": {},
   "source": [
    "### Market portfolio M: maximizes the Sharpe ratio"
   ]
  },
  {
   "cell_type": "code",
   "execution_count": 6,
   "metadata": {},
   "outputs": [],
   "source": [
    "Proportion_A = 0.666666666666666666667 # Proportion of stock A\n",
    "Proportion_B = 1-Proportion_A # Proportion of stock B"
   ]
  },
  {
   "cell_type": "code",
   "execution_count": 7,
   "metadata": {},
   "outputs": [
    {
     "name": "stdout",
     "output_type": "stream",
     "text": [
      "The expected return of the market portfolio, E(rM) is: 10.00%\n",
      "The return variance of the market portfolio is: 0.0107\n",
      "The standard deviation of the market portfolio is: 10.33%\n"
     ]
    }
   ],
   "source": [
    "M_mean = Proportion_A*mean1 + Proportion_B*mean2 # Expected market portfolio return, E(rM)\n",
    "print(\"The expected return of the market portfolio, E(rM) is:\", \"{:.2%}\".format(M_mean))\n",
    "M_varia = Proportion_A**2*varia1+Proportion_B**2*varia2+2*Proportion_A*Proportion_B*cov # Market portfolio: return variance\n",
    "print(\"The return variance of the market portfolio is:\", round((M_varia),4))\n",
    "M_vol = np.sqrt(M_varia) # Market portfolio: standard deviation\n",
    "print(\"The standard deviation of the market portfolio is:\", \"{:.2%}\".format(M_vol))"
   ]
  },
  {
   "cell_type": "code",
   "execution_count": 8,
   "metadata": {},
   "outputs": [
    {
     "name": "stdout",
     "output_type": "stream",
     "text": [
      "The Market excess return over risk-free rate is: 8.00%\n"
     ]
    }
   ],
   "source": [
    "ERP = M_mean - RF\n",
    "print(\"The Market excess return over risk-free rate is:\", \"{:.2%}\".format(ERP))"
   ]
  },
  {
   "cell_type": "code",
   "execution_count": 9,
   "metadata": {},
   "outputs": [
    {
     "name": "stdout",
     "output_type": "stream",
     "text": [
      "The Market portfolio maximizes Sharpe ratio is: 0.77\n"
     ]
    }
   ],
   "source": [
    "# Market portfolio maximizes Sharpe ratio\n",
    "Sharpe_ratio = ERP/M_vol\n",
    "print(\"The Market portfolio maximizes Sharpe ratio is:\", round((Sharpe_ratio),2))"
   ]
  },
  {
   "cell_type": "markdown",
   "metadata": {},
   "source": [
    "# Portfolio consisting"
   ]
  },
  {
   "cell_type": "code",
   "execution_count": 10,
   "metadata": {},
   "outputs": [
    {
     "data": {
      "text/plain": [
       "[1.0, 0.0, 0.5, 0.6666666666666666]"
      ]
     },
     "execution_count": 10,
     "metadata": {},
     "output_type": "execute_result"
    }
   ],
   "source": [
    "Weight_A = [1.0, 0.0, 0.5, Proportion_A]\n",
    "Weight_A"
   ]
  },
  {
   "cell_type": "code",
   "execution_count": 11,
   "metadata": {},
   "outputs": [
    {
     "data": {
      "text/plain": [
       "[0.0, 1.0, 0.5, 0.33333333333333337]"
      ]
     },
     "execution_count": 11,
     "metadata": {},
     "output_type": "execute_result"
    }
   ],
   "source": [
    "Weight_B = []\n",
    "for i in range(0,len(Weight_A)):\n",
    "    Weight_B.append(1-Weight_A[i])\n",
    "Weight_B   "
   ]
  },
  {
   "cell_type": "code",
   "execution_count": 12,
   "metadata": {},
   "outputs": [
    {
     "data": {
      "text/plain": [
       "[0.08, 0.14, 0.11000000000000001, 0.1]"
      ]
     },
     "execution_count": 12,
     "metadata": {},
     "output_type": "execute_result"
    }
   ],
   "source": [
    "E_R = []\n",
    "for i in range(0,len(Weight_A)):\n",
    "    E_R.append(Weight_A[i]*mean1+Weight_B[i]*mean2)\n",
    "E_R  "
   ]
  },
  {
   "cell_type": "code",
   "execution_count": 13,
   "metadata": {},
   "outputs": [
    {
     "data": {
      "text/html": [
       "<div>\n",
       "<style scoped>\n",
       "    .dataframe tbody tr th:only-of-type {\n",
       "        vertical-align: middle;\n",
       "    }\n",
       "\n",
       "    .dataframe tbody tr th {\n",
       "        vertical-align: top;\n",
       "    }\n",
       "\n",
       "    .dataframe thead th {\n",
       "        text-align: right;\n",
       "    }\n",
       "</style>\n",
       "<table border=\"1\" class=\"dataframe\">\n",
       "  <thead>\n",
       "    <tr style=\"text-align: right;\">\n",
       "      <th></th>\n",
       "      <th>Only Asset A</th>\n",
       "      <th>Only Asset B</th>\n",
       "      <th>Mix</th>\n",
       "      <th>Market Portfolio!</th>\n",
       "    </tr>\n",
       "  </thead>\n",
       "  <tbody>\n",
       "    <tr>\n",
       "      <th>% in Asset A</th>\n",
       "      <td>1.00</td>\n",
       "      <td>0.00</td>\n",
       "      <td>0.50</td>\n",
       "      <td>0.666667</td>\n",
       "    </tr>\n",
       "    <tr>\n",
       "      <th>% in Asset B</th>\n",
       "      <td>0.00</td>\n",
       "      <td>1.00</td>\n",
       "      <td>0.50</td>\n",
       "      <td>0.333333</td>\n",
       "    </tr>\n",
       "    <tr>\n",
       "      <th>Expected Portfolio Return, weighted</th>\n",
       "      <td>0.08</td>\n",
       "      <td>0.14</td>\n",
       "      <td>0.11</td>\n",
       "      <td>0.100000</td>\n",
       "    </tr>\n",
       "  </tbody>\n",
       "</table>\n",
       "</div>"
      ],
      "text/plain": [
       "                                     Only Asset A  Only Asset B   Mix  \\\n",
       "% in Asset A                                 1.00          0.00  0.50   \n",
       "% in Asset B                                 0.00          1.00  0.50   \n",
       "Expected Portfolio Return, weighted          0.08          0.14  0.11   \n",
       "\n",
       "                                     Market Portfolio!  \n",
       "% in Asset A                                  0.666667  \n",
       "% in Asset B                                  0.333333  \n",
       "Expected Portfolio Return, weighted           0.100000  "
      ]
     },
     "execution_count": 13,
     "metadata": {},
     "output_type": "execute_result"
    }
   ],
   "source": [
    "df = pd.DataFrame({\"% in Asset A\": Weight_A, \"% in Asset B\":Weight_B, \"Expected Portfolio Return, weighted\":E_R},index=('Only Asset A','Only Asset B','Mix','Market Portfolio!')).T\n",
    "df"
   ]
  },
  {
   "cell_type": "markdown",
   "metadata": {},
   "source": [
    "# Using Security Market Line"
   ]
  },
  {
   "cell_type": "code",
   "execution_count": 14,
   "metadata": {},
   "outputs": [
    {
     "data": {
      "text/plain": [
       "[0.008000000000000002,\n",
       " 0.016000000000000004,\n",
       " 0.012000000000000002,\n",
       " 0.010666666666666668]"
      ]
     },
     "execution_count": 14,
     "metadata": {},
     "output_type": "execute_result"
    }
   ],
   "source": [
    "COVA = []\n",
    "for i in range(0,len(Weight_A)):\n",
    "    COVA.append(Weight_A[i]*Proportion_A*varia1+Weight_B[i]*Proportion_B*varia2+(Weight_A[i]*Proportion_B+Weight_B[i]*Proportion_A)*cov)\n",
    "COVA"
   ]
  },
  {
   "cell_type": "code",
   "execution_count": 15,
   "metadata": {},
   "outputs": [
    {
     "data": {
      "text/plain": [
       "[0.7500000000000001, 1.5000000000000002, 1.125, 1.0]"
      ]
     },
     "execution_count": 15,
     "metadata": {},
     "output_type": "execute_result"
    }
   ],
   "source": [
    "BETA = []\n",
    "for i in range(0,len(Weight_A)):\n",
    "    BETA.append(COVA[i]/M_varia)\n",
    "BETA"
   ]
  },
  {
   "cell_type": "code",
   "execution_count": 16,
   "metadata": {},
   "outputs": [
    {
     "data": {
      "text/plain": [
       "[0.08000000000000002, 0.14, 0.11, 0.1]"
      ]
     },
     "execution_count": 16,
     "metadata": {},
     "output_type": "execute_result"
    }
   ],
   "source": [
    "CAPM = []\n",
    "for i in range(0,len(Weight_A)):\n",
    "    CAPM.append(RF+BETA[i]*ERP)\n",
    "CAPM"
   ]
  },
  {
   "cell_type": "code",
   "execution_count": 17,
   "metadata": {},
   "outputs": [
    {
     "data": {
      "text/html": [
       "<div>\n",
       "<style scoped>\n",
       "    .dataframe tbody tr th:only-of-type {\n",
       "        vertical-align: middle;\n",
       "    }\n",
       "\n",
       "    .dataframe tbody tr th {\n",
       "        vertical-align: top;\n",
       "    }\n",
       "\n",
       "    .dataframe thead th {\n",
       "        text-align: right;\n",
       "    }\n",
       "</style>\n",
       "<table border=\"1\" class=\"dataframe\">\n",
       "  <thead>\n",
       "    <tr style=\"text-align: right;\">\n",
       "      <th></th>\n",
       "      <th>Only Asset A</th>\n",
       "      <th>Only Asset B</th>\n",
       "      <th>Mix</th>\n",
       "      <th>Market Portfolio!</th>\n",
       "    </tr>\n",
       "  </thead>\n",
       "  <tbody>\n",
       "    <tr>\n",
       "      <th>Cov (portfolio, market)</th>\n",
       "      <td>0.008</td>\n",
       "      <td>0.016</td>\n",
       "      <td>0.012</td>\n",
       "      <td>0.010667</td>\n",
       "    </tr>\n",
       "    <tr>\n",
       "      <th>Beta (portfolio with respect to market)</th>\n",
       "      <td>0.750</td>\n",
       "      <td>1.500</td>\n",
       "      <td>1.125</td>\n",
       "      <td>1.000000</td>\n",
       "    </tr>\n",
       "    <tr>\n",
       "      <th>CAPM (SML): Expected return</th>\n",
       "      <td>0.080</td>\n",
       "      <td>0.140</td>\n",
       "      <td>0.110</td>\n",
       "      <td>0.100000</td>\n",
       "    </tr>\n",
       "  </tbody>\n",
       "</table>\n",
       "</div>"
      ],
      "text/plain": [
       "                                         Only Asset A  Only Asset B    Mix  \\\n",
       "Cov (portfolio, market)                         0.008         0.016  0.012   \n",
       "Beta (portfolio with respect to market)         0.750         1.500  1.125   \n",
       "CAPM (SML): Expected return                     0.080         0.140  0.110   \n",
       "\n",
       "                                         Market Portfolio!  \n",
       "Cov (portfolio, market)                           0.010667  \n",
       "Beta (portfolio with respect to market)           1.000000  \n",
       "CAPM (SML): Expected return                       0.100000  "
      ]
     },
     "execution_count": 17,
     "metadata": {},
     "output_type": "execute_result"
    }
   ],
   "source": [
    "df = pd.DataFrame({\"Cov (portfolio, market)\": COVA, \"Beta (portfolio with respect to market)\":BETA, \"CAPM (SML): Expected return\":CAPM},index=('Only Asset A','Only Asset B','Mix','Market Portfolio!')).T\n",
    "df"
   ]
  },
  {
   "cell_type": "code",
   "execution_count": null,
   "metadata": {},
   "outputs": [],
   "source": []
  }
 ],
 "metadata": {
  "kernelspec": {
   "display_name": "Python 3",
   "language": "python",
   "name": "python3"
  },
  "language_info": {
   "codemirror_mode": {
    "name": "ipython",
    "version": 3
   },
   "file_extension": ".py",
   "mimetype": "text/x-python",
   "name": "python",
   "nbconvert_exporter": "python",
   "pygments_lexer": "ipython3",
   "version": "3.7.6"
  }
 },
 "nbformat": 4,
 "nbformat_minor": 4
}
