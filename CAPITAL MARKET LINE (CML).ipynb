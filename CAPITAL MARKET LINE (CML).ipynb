{
 "cells": [
  {
   "cell_type": "code",
   "execution_count": 1,
   "metadata": {},
   "outputs": [],
   "source": [
    "import pandas as pd\n",
    "import numpy as np\n",
    "import scipy.stats as si"
   ]
  },
  {
   "cell_type": "code",
   "execution_count": 2,
   "metadata": {},
   "outputs": [],
   "source": [
    "RF = 0.07 # Riskless rate"
   ]
  },
  {
   "cell_type": "code",
   "execution_count": 3,
   "metadata": {},
   "outputs": [],
   "source": [
    "# Asset A\n",
    "mean1 = 0.1 # Exp Return\n",
    "vol1 = 0.1 # Std Deviation\n",
    "varia1 = vol1**2 # Variance"
   ]
  },
  {
   "cell_type": "code",
   "execution_count": 4,
   "metadata": {},
   "outputs": [],
   "source": [
    "# Asset B\n",
    "mean2 = 0.15 # Exp Return\n",
    "vol2 = 0.2 # Std Deviation\n",
    "varia2 = vol2**2 # Variance"
   ]
  },
  {
   "cell_type": "code",
   "execution_count": 5,
   "metadata": {},
   "outputs": [],
   "source": [
    "Corr = 0.2 # Correlation\n",
    "cov = vol1*vol2*Corr # Covariance"
   ]
  },
  {
   "cell_type": "code",
   "execution_count": 6,
   "metadata": {},
   "outputs": [
    {
     "name": "stdout",
     "output_type": "stream",
     "text": [
      "The % in Asset A is: 56.4%\n"
     ]
    }
   ],
   "source": [
    "M_Weight_A = 0.564 # % in Asset A for the Market Portfolio (M)\n",
    "print(\"The % in Asset A is:\", \"{:.1%}\".format(M_Weight_A))"
   ]
  },
  {
   "cell_type": "markdown",
   "metadata": {},
   "source": [
    "# Market Portfolio (M)"
   ]
  },
  {
   "cell_type": "code",
   "execution_count": 7,
   "metadata": {},
   "outputs": [
    {
     "name": "stdout",
     "output_type": "stream",
     "text": [
      "The % in Asset B is: 43.6%\n",
      "The Market Portfolio Exp return is: 12.18%\n",
      "The Market Portfolio Volatility is: 11.29%\n"
     ]
    }
   ],
   "source": [
    "M_Weight_B = 1-M_Weight_A # % in Asset B for the Market Portfolio (M)\n",
    "print(\"The % in Asset B is:\", \"{:.1%}\".format(M_Weight_B))\n",
    "M_mean = M_Weight_A*mean1+M_Weight_B*mean2 # Exp return, M\n",
    "print(\"The Market Portfolio Exp return is:\", \"{:.2%}\".format(M_mean))\n",
    "M_vol = np.sqrt((M_Weight_A*vol1)**2+(M_Weight_B*vol2)**2+2*(M_Weight_A*M_Weight_B)*cov) # Volatility, M\n",
    "print(\"The Market Portfolio Volatility is:\", \"{:.2%}\".format(M_vol))"
   ]
  },
  {
   "cell_type": "markdown",
   "metadata": {},
   "source": [
    "# Building the Efficient Frontier"
   ]
  },
  {
   "cell_type": "code",
   "execution_count": 8,
   "metadata": {},
   "outputs": [
    {
     "data": {
      "text/plain": [
       "[-0.5,\n",
       " -0.4,\n",
       " -0.3,\n",
       " -0.19999999999999996,\n",
       " -0.09999999999999998,\n",
       " 0.0,\n",
       " 0.10000000000000009,\n",
       " 0.20000000000000007,\n",
       " 0.30000000000000004,\n",
       " 0.4]"
      ]
     },
     "execution_count": 8,
     "metadata": {},
     "output_type": "execute_result"
    }
   ],
   "source": [
    "Weight_A1 = np.linspace(-0.5,0.4,10)\n",
    "Weight_A1 = list(Weight_A1)\n",
    "Weight_A1"
   ]
  },
  {
   "cell_type": "code",
   "execution_count": 9,
   "metadata": {},
   "outputs": [
    {
     "data": {
      "text/plain": [
       "[0.564,\n",
       " 0.6639999999999999,\n",
       " 0.764,\n",
       " 0.864,\n",
       " 0.964,\n",
       " 1.064,\n",
       " 1.1640000000000001,\n",
       " 1.264,\n",
       " 1.3639999999999999,\n",
       " 1.464,\n",
       " 1.564,\n",
       " 1.6640000000000001]"
      ]
     },
     "execution_count": 9,
     "metadata": {},
     "output_type": "execute_result"
    }
   ],
   "source": [
    "Weight_A2 = np.linspace(M_Weight_A,(M_Weight_A+1.1),12)\n",
    "Weight_A2 = list(Weight_A2)\n",
    "Weight_A2"
   ]
  },
  {
   "cell_type": "code",
   "execution_count": 10,
   "metadata": {},
   "outputs": [
    {
     "data": {
      "text/plain": [
       "[-0.5,\n",
       " -0.4,\n",
       " -0.3,\n",
       " -0.19999999999999996,\n",
       " -0.09999999999999998,\n",
       " 0.0,\n",
       " 0.10000000000000009,\n",
       " 0.20000000000000007,\n",
       " 0.30000000000000004,\n",
       " 0.4,\n",
       " 0.564,\n",
       " 0.6639999999999999,\n",
       " 0.764,\n",
       " 0.864,\n",
       " 0.964,\n",
       " 1.064,\n",
       " 1.1640000000000001,\n",
       " 1.264,\n",
       " 1.3639999999999999,\n",
       " 1.464,\n",
       " 1.564,\n",
       " 1.6640000000000001]"
      ]
     },
     "execution_count": 10,
     "metadata": {},
     "output_type": "execute_result"
    }
   ],
   "source": [
    "Weight_A = Weight_A1 + Weight_A2\n",
    "Weight_A"
   ]
  },
  {
   "cell_type": "code",
   "execution_count": 11,
   "metadata": {},
   "outputs": [],
   "source": [
    "VOL = []\n",
    "for i in range(0,len(Weight_A)):\n",
    "    VOL.append(np.sqrt((Weight_A[i]*vol1)**2+(1-Weight_A[i])**2*vol2**2+2*Weight_A[i]*(1-Weight_A[i])*cov))\n",
    "    \n",
    "\n",
    "MEAN = []\n",
    "for i in range(0,len(Weight_A)):\n",
    "    MEAN.append(Weight_A[i]*mean1+(1-Weight_A[i])*mean2)\n",
    "\n",
    "SRP = []\n",
    "for i in range(0,len(Weight_A)):\n",
    "    SRP.append(((Weight_A[i]*mean1+(1-Weight_A[i])*mean2)-RF)/(np.sqrt((Weight_A[i]*vol1)**2+(1-Weight_A[i])**2*vol2**2+2*Weight_A[i]*(1-Weight_A[i])*cov)))"
   ]
  },
  {
   "cell_type": "code",
   "execution_count": 12,
   "metadata": {},
   "outputs": [
    {
     "data": {
      "text/html": [
       "<div>\n",
       "<style scoped>\n",
       "    .dataframe tbody tr th:only-of-type {\n",
       "        vertical-align: middle;\n",
       "    }\n",
       "\n",
       "    .dataframe tbody tr th {\n",
       "        vertical-align: top;\n",
       "    }\n",
       "\n",
       "    .dataframe thead th {\n",
       "        text-align: right;\n",
       "    }\n",
       "</style>\n",
       "<table border=\"1\" class=\"dataframe\">\n",
       "  <thead>\n",
       "    <tr style=\"text-align: right;\">\n",
       "      <th></th>\n",
       "      <th>% in Asset A</th>\n",
       "      <th>Standard Deviation</th>\n",
       "      <th>Expected Return</th>\n",
       "      <th>Sharpe Ratio</th>\n",
       "    </tr>\n",
       "  </thead>\n",
       "  <tbody>\n",
       "    <tr>\n",
       "      <th>0</th>\n",
       "      <td>-0.500</td>\n",
       "      <td>0.294109</td>\n",
       "      <td>0.1750</td>\n",
       "      <td>0.357011</td>\n",
       "    </tr>\n",
       "    <tr>\n",
       "      <th>1</th>\n",
       "      <td>-0.400</td>\n",
       "      <td>0.274809</td>\n",
       "      <td>0.1700</td>\n",
       "      <td>0.363889</td>\n",
       "    </tr>\n",
       "    <tr>\n",
       "      <th>2</th>\n",
       "      <td>-0.300</td>\n",
       "      <td>0.255695</td>\n",
       "      <td>0.1650</td>\n",
       "      <td>0.371536</td>\n",
       "    </tr>\n",
       "    <tr>\n",
       "      <th>3</th>\n",
       "      <td>-0.200</td>\n",
       "      <td>0.236812</td>\n",
       "      <td>0.1600</td>\n",
       "      <td>0.380048</td>\n",
       "    </tr>\n",
       "    <tr>\n",
       "      <th>4</th>\n",
       "      <td>-0.100</td>\n",
       "      <td>0.218220</td>\n",
       "      <td>0.1550</td>\n",
       "      <td>0.389515</td>\n",
       "    </tr>\n",
       "    <tr>\n",
       "      <th>5</th>\n",
       "      <td>0.000</td>\n",
       "      <td>0.200000</td>\n",
       "      <td>0.1500</td>\n",
       "      <td>0.400000</td>\n",
       "    </tr>\n",
       "    <tr>\n",
       "      <th>6</th>\n",
       "      <td>0.100</td>\n",
       "      <td>0.182264</td>\n",
       "      <td>0.1450</td>\n",
       "      <td>0.411492</td>\n",
       "    </tr>\n",
       "    <tr>\n",
       "      <th>7</th>\n",
       "      <td>0.200</td>\n",
       "      <td>0.165167</td>\n",
       "      <td>0.1400</td>\n",
       "      <td>0.423815</td>\n",
       "    </tr>\n",
       "    <tr>\n",
       "      <th>8</th>\n",
       "      <td>0.300</td>\n",
       "      <td>0.148930</td>\n",
       "      <td>0.1350</td>\n",
       "      <td>0.436448</td>\n",
       "    </tr>\n",
       "    <tr>\n",
       "      <th>9</th>\n",
       "      <td>0.400</td>\n",
       "      <td>0.133866</td>\n",
       "      <td>0.1300</td>\n",
       "      <td>0.448211</td>\n",
       "    </tr>\n",
       "    <tr>\n",
       "      <th>10</th>\n",
       "      <td>0.564</td>\n",
       "      <td>0.112925</td>\n",
       "      <td>0.1218</td>\n",
       "      <td>0.458712</td>\n",
       "    </tr>\n",
       "    <tr>\n",
       "      <th>11</th>\n",
       "      <td>0.664</td>\n",
       "      <td>0.103487</td>\n",
       "      <td>0.1168</td>\n",
       "      <td>0.452229</td>\n",
       "    </tr>\n",
       "    <tr>\n",
       "      <th>12</th>\n",
       "      <td>0.764</td>\n",
       "      <td>0.097505</td>\n",
       "      <td>0.1118</td>\n",
       "      <td>0.428696</td>\n",
       "    </tr>\n",
       "    <tr>\n",
       "      <th>13</th>\n",
       "      <td>0.864</td>\n",
       "      <td>0.095629</td>\n",
       "      <td>0.1068</td>\n",
       "      <td>0.384822</td>\n",
       "    </tr>\n",
       "    <tr>\n",
       "      <th>14</th>\n",
       "      <td>0.964</td>\n",
       "      <td>0.098094</td>\n",
       "      <td>0.1018</td>\n",
       "      <td>0.324179</td>\n",
       "    </tr>\n",
       "    <tr>\n",
       "      <th>15</th>\n",
       "      <td>1.064</td>\n",
       "      <td>0.104595</td>\n",
       "      <td>0.0968</td>\n",
       "      <td>0.256227</td>\n",
       "    </tr>\n",
       "    <tr>\n",
       "      <th>16</th>\n",
       "      <td>1.164</td>\n",
       "      <td>0.114445</td>\n",
       "      <td>0.0918</td>\n",
       "      <td>0.190485</td>\n",
       "    </tr>\n",
       "    <tr>\n",
       "      <th>17</th>\n",
       "      <td>1.264</td>\n",
       "      <td>0.126867</td>\n",
       "      <td>0.0868</td>\n",
       "      <td>0.132422</td>\n",
       "    </tr>\n",
       "    <tr>\n",
       "      <th>18</th>\n",
       "      <td>1.364</td>\n",
       "      <td>0.141184</td>\n",
       "      <td>0.0818</td>\n",
       "      <td>0.083579</td>\n",
       "    </tr>\n",
       "    <tr>\n",
       "      <th>19</th>\n",
       "      <td>1.464</td>\n",
       "      <td>0.156877</td>\n",
       "      <td>0.0768</td>\n",
       "      <td>0.043346</td>\n",
       "    </tr>\n",
       "    <tr>\n",
       "      <th>20</th>\n",
       "      <td>1.564</td>\n",
       "      <td>0.173574</td>\n",
       "      <td>0.0718</td>\n",
       "      <td>0.010370</td>\n",
       "    </tr>\n",
       "    <tr>\n",
       "      <th>21</th>\n",
       "      <td>1.664</td>\n",
       "      <td>0.191012</td>\n",
       "      <td>0.0668</td>\n",
       "      <td>-0.016753</td>\n",
       "    </tr>\n",
       "  </tbody>\n",
       "</table>\n",
       "</div>"
      ],
      "text/plain": [
       "    % in Asset A  Standard Deviation  Expected Return  Sharpe Ratio\n",
       "0         -0.500            0.294109           0.1750      0.357011\n",
       "1         -0.400            0.274809           0.1700      0.363889\n",
       "2         -0.300            0.255695           0.1650      0.371536\n",
       "3         -0.200            0.236812           0.1600      0.380048\n",
       "4         -0.100            0.218220           0.1550      0.389515\n",
       "5          0.000            0.200000           0.1500      0.400000\n",
       "6          0.100            0.182264           0.1450      0.411492\n",
       "7          0.200            0.165167           0.1400      0.423815\n",
       "8          0.300            0.148930           0.1350      0.436448\n",
       "9          0.400            0.133866           0.1300      0.448211\n",
       "10         0.564            0.112925           0.1218      0.458712\n",
       "11         0.664            0.103487           0.1168      0.452229\n",
       "12         0.764            0.097505           0.1118      0.428696\n",
       "13         0.864            0.095629           0.1068      0.384822\n",
       "14         0.964            0.098094           0.1018      0.324179\n",
       "15         1.064            0.104595           0.0968      0.256227\n",
       "16         1.164            0.114445           0.0918      0.190485\n",
       "17         1.264            0.126867           0.0868      0.132422\n",
       "18         1.364            0.141184           0.0818      0.083579\n",
       "19         1.464            0.156877           0.0768      0.043346\n",
       "20         1.564            0.173574           0.0718      0.010370\n",
       "21         1.664            0.191012           0.0668     -0.016753"
      ]
     },
     "execution_count": 12,
     "metadata": {},
     "output_type": "execute_result"
    }
   ],
   "source": [
    "df = pd.DataFrame({\"% in Asset A\": Weight_A, \"Standard Deviation\":VOL, \"Expected Return\": MEAN , \"Sharpe Ratio\": SRP})\n",
    "df"
   ]
  },
  {
   "cell_type": "markdown",
   "metadata": {},
   "source": [
    "# Building the CML"
   ]
  },
  {
   "cell_type": "code",
   "execution_count": 13,
   "metadata": {},
   "outputs": [
    {
     "data": {
      "text/plain": [
       "[0.0,\n",
       " 0.1,\n",
       " 0.2,\n",
       " 0.30000000000000004,\n",
       " 0.4,\n",
       " 0.5,\n",
       " 0.6000000000000001,\n",
       " 0.7000000000000001,\n",
       " 0.8,\n",
       " 0.9]"
      ]
     },
     "execution_count": 13,
     "metadata": {},
     "output_type": "execute_result"
    }
   ],
   "source": [
    "Weight_M1 = np.linspace(0,0.9,10)\n",
    "Weight_M1 = list(Weight_M1)\n",
    "Weight_M1"
   ]
  },
  {
   "cell_type": "code",
   "execution_count": 14,
   "metadata": {},
   "outputs": [
    {
     "data": {
      "text/plain": [
       "[1.0, 1.25, 1.5, 1.75, 2.0, 2.25, 2.5, 2.75, 3.0]"
      ]
     },
     "execution_count": 14,
     "metadata": {},
     "output_type": "execute_result"
    }
   ],
   "source": [
    "Weight_M2 = np.linspace(1.0,3.0,9)\n",
    "Weight_M2 = list(Weight_M2)\n",
    "Weight_M2"
   ]
  },
  {
   "cell_type": "code",
   "execution_count": 15,
   "metadata": {},
   "outputs": [
    {
     "data": {
      "text/plain": [
       "[0.0,\n",
       " 0.1,\n",
       " 0.2,\n",
       " 0.30000000000000004,\n",
       " 0.4,\n",
       " 0.5,\n",
       " 0.6000000000000001,\n",
       " 0.7000000000000001,\n",
       " 0.8,\n",
       " 0.9,\n",
       " 1.0,\n",
       " 1.25,\n",
       " 1.5,\n",
       " 1.75,\n",
       " 2.0,\n",
       " 2.25,\n",
       " 2.5,\n",
       " 2.75,\n",
       " 3.0]"
      ]
     },
     "execution_count": 15,
     "metadata": {},
     "output_type": "execute_result"
    }
   ],
   "source": [
    "Weight_M = Weight_M1 + Weight_M2\n",
    "Weight_M"
   ]
  },
  {
   "cell_type": "code",
   "execution_count": 16,
   "metadata": {},
   "outputs": [],
   "source": [
    "VOLM = []\n",
    "for i in range(0,len(Weight_M)):\n",
    "    VOLM.append(Weight_M[i]*M_vol)\n",
    "\n",
    "MEANM = []\n",
    "for i in range(0,len(Weight_M)):\n",
    "    MEANM.append(Weight_M[i]*M_mean+(1-Weight_M[i])*RF)"
   ]
  },
  {
   "cell_type": "code",
   "execution_count": 17,
   "metadata": {},
   "outputs": [
    {
     "data": {
      "text/html": [
       "<div>\n",
       "<style scoped>\n",
       "    .dataframe tbody tr th:only-of-type {\n",
       "        vertical-align: middle;\n",
       "    }\n",
       "\n",
       "    .dataframe tbody tr th {\n",
       "        vertical-align: top;\n",
       "    }\n",
       "\n",
       "    .dataframe thead th {\n",
       "        text-align: right;\n",
       "    }\n",
       "</style>\n",
       "<table border=\"1\" class=\"dataframe\">\n",
       "  <thead>\n",
       "    <tr style=\"text-align: right;\">\n",
       "      <th></th>\n",
       "      <th>% in Market Portfolio</th>\n",
       "      <th>Standard Deviation</th>\n",
       "      <th>Expected Return(CML)</th>\n",
       "    </tr>\n",
       "  </thead>\n",
       "  <tbody>\n",
       "    <tr>\n",
       "      <th>0</th>\n",
       "      <td>0.00</td>\n",
       "      <td>0.000000</td>\n",
       "      <td>0.07000</td>\n",
       "    </tr>\n",
       "    <tr>\n",
       "      <th>1</th>\n",
       "      <td>0.10</td>\n",
       "      <td>0.011292</td>\n",
       "      <td>0.07518</td>\n",
       "    </tr>\n",
       "    <tr>\n",
       "      <th>2</th>\n",
       "      <td>0.20</td>\n",
       "      <td>0.022585</td>\n",
       "      <td>0.08036</td>\n",
       "    </tr>\n",
       "    <tr>\n",
       "      <th>3</th>\n",
       "      <td>0.30</td>\n",
       "      <td>0.033877</td>\n",
       "      <td>0.08554</td>\n",
       "    </tr>\n",
       "    <tr>\n",
       "      <th>4</th>\n",
       "      <td>0.40</td>\n",
       "      <td>0.045170</td>\n",
       "      <td>0.09072</td>\n",
       "    </tr>\n",
       "    <tr>\n",
       "      <th>5</th>\n",
       "      <td>0.50</td>\n",
       "      <td>0.056462</td>\n",
       "      <td>0.09590</td>\n",
       "    </tr>\n",
       "    <tr>\n",
       "      <th>6</th>\n",
       "      <td>0.60</td>\n",
       "      <td>0.067755</td>\n",
       "      <td>0.10108</td>\n",
       "    </tr>\n",
       "    <tr>\n",
       "      <th>7</th>\n",
       "      <td>0.70</td>\n",
       "      <td>0.079047</td>\n",
       "      <td>0.10626</td>\n",
       "    </tr>\n",
       "    <tr>\n",
       "      <th>8</th>\n",
       "      <td>0.80</td>\n",
       "      <td>0.090340</td>\n",
       "      <td>0.11144</td>\n",
       "    </tr>\n",
       "    <tr>\n",
       "      <th>9</th>\n",
       "      <td>0.90</td>\n",
       "      <td>0.101632</td>\n",
       "      <td>0.11662</td>\n",
       "    </tr>\n",
       "    <tr>\n",
       "      <th>10</th>\n",
       "      <td>1.00</td>\n",
       "      <td>0.112925</td>\n",
       "      <td>0.12180</td>\n",
       "    </tr>\n",
       "    <tr>\n",
       "      <th>11</th>\n",
       "      <td>1.25</td>\n",
       "      <td>0.141156</td>\n",
       "      <td>0.13475</td>\n",
       "    </tr>\n",
       "    <tr>\n",
       "      <th>12</th>\n",
       "      <td>1.50</td>\n",
       "      <td>0.169387</td>\n",
       "      <td>0.14770</td>\n",
       "    </tr>\n",
       "    <tr>\n",
       "      <th>13</th>\n",
       "      <td>1.75</td>\n",
       "      <td>0.197619</td>\n",
       "      <td>0.16065</td>\n",
       "    </tr>\n",
       "    <tr>\n",
       "      <th>14</th>\n",
       "      <td>2.00</td>\n",
       "      <td>0.225850</td>\n",
       "      <td>0.17360</td>\n",
       "    </tr>\n",
       "    <tr>\n",
       "      <th>15</th>\n",
       "      <td>2.25</td>\n",
       "      <td>0.254081</td>\n",
       "      <td>0.18655</td>\n",
       "    </tr>\n",
       "    <tr>\n",
       "      <th>16</th>\n",
       "      <td>2.50</td>\n",
       "      <td>0.282312</td>\n",
       "      <td>0.19950</td>\n",
       "    </tr>\n",
       "    <tr>\n",
       "      <th>17</th>\n",
       "      <td>2.75</td>\n",
       "      <td>0.310543</td>\n",
       "      <td>0.21245</td>\n",
       "    </tr>\n",
       "    <tr>\n",
       "      <th>18</th>\n",
       "      <td>3.00</td>\n",
       "      <td>0.338775</td>\n",
       "      <td>0.22540</td>\n",
       "    </tr>\n",
       "  </tbody>\n",
       "</table>\n",
       "</div>"
      ],
      "text/plain": [
       "    % in Market Portfolio  Standard Deviation  Expected Return(CML)\n",
       "0                    0.00            0.000000               0.07000\n",
       "1                    0.10            0.011292               0.07518\n",
       "2                    0.20            0.022585               0.08036\n",
       "3                    0.30            0.033877               0.08554\n",
       "4                    0.40            0.045170               0.09072\n",
       "5                    0.50            0.056462               0.09590\n",
       "6                    0.60            0.067755               0.10108\n",
       "7                    0.70            0.079047               0.10626\n",
       "8                    0.80            0.090340               0.11144\n",
       "9                    0.90            0.101632               0.11662\n",
       "10                   1.00            0.112925               0.12180\n",
       "11                   1.25            0.141156               0.13475\n",
       "12                   1.50            0.169387               0.14770\n",
       "13                   1.75            0.197619               0.16065\n",
       "14                   2.00            0.225850               0.17360\n",
       "15                   2.25            0.254081               0.18655\n",
       "16                   2.50            0.282312               0.19950\n",
       "17                   2.75            0.310543               0.21245\n",
       "18                   3.00            0.338775               0.22540"
      ]
     },
     "execution_count": 17,
     "metadata": {},
     "output_type": "execute_result"
    }
   ],
   "source": [
    "df1 = pd.DataFrame({\"% in Market Portfolio\": Weight_M, \"Standard Deviation\":VOLM, \"Expected Return(CML)\": MEANM})\n",
    "df1"
   ]
  },
  {
   "cell_type": "code",
   "execution_count": 18,
   "metadata": {},
   "outputs": [
    {
     "data": {
      "text/plain": [
       "0     0.294109\n",
       "1     0.274809\n",
       "2     0.255695\n",
       "3     0.236812\n",
       "4     0.218220\n",
       "5     0.200000\n",
       "6     0.182264\n",
       "7     0.165167\n",
       "8     0.148930\n",
       "9     0.133866\n",
       "10    0.112925\n",
       "11    0.103487\n",
       "12    0.097505\n",
       "13    0.095629\n",
       "Name: Standard Deviation, dtype: float64"
      ]
     },
     "execution_count": 18,
     "metadata": {},
     "output_type": "execute_result"
    }
   ],
   "source": [
    "df['Standard Deviation'][:14]"
   ]
  },
  {
   "cell_type": "code",
   "execution_count": 19,
   "metadata": {},
   "outputs": [
    {
     "data": {
      "image/png": "[encoded data removed]",
      "text/plain": [
       "<Figure size 720x720 with 1 Axes>"
      ]
     },
     "metadata": {
      "needs_background": "light"
     },
     "output_type": "display_data"
    }
   ],
   "source": [
    "import matplotlib.pyplot as plt\n",
    "fig = plt.figure(figsize=(10,10))\n",
    "CML = plt.plot(df1['Standard Deviation'], df1['Expected Return(CML)'], label='CML', color = 'crimson', linewidth = 7.0)\n",
    "EF = plt.plot(df['Standard Deviation'], df['Expected Return'], label='FF', color = 'blue', linewidth = 7.0)\n",
    "Portfolio = plt.plot(M_vol, M_mean, label='M', color = 'green')\n",
    "plt.title('CML vs. Efficient Frontier')\n",
    "plt.xlabel('Standard Deviation')\n",
    "plt.ylabel('Expected Return')\n",
    "plt.legend()\n",
    "plt.show()"
   ]
  }
 ],
 "metadata": {
  "kernelspec": {
   "display_name": "Python 3",
   "language": "python",
   "name": "python3"
  },
  "language_info": {
   "codemirror_mode": {
    "name": "ipython",
    "version": 3
   },
   "file_extension": ".py",
   "mimetype": "text/x-python",
   "name": "python",
   "nbconvert_exporter": "python",
   "pygments_lexer": "ipython3",
   "version": "3.7.6"
  }
 },
 "nbformat": 4,
 "nbformat_minor": 4
}
