{
 "cells": [
  {
   "cell_type": "code",
   "execution_count": 1,
   "metadata": {},
   "outputs": [],
   "source": [
    "import pandas as pd\n",
    "import numpy as np\n",
    "import scipy.stats as si"
   ]
  },
  {
   "cell_type": "code",
   "execution_count": 2,
   "metadata": {},
   "outputs": [],
   "source": [
    "def NORMSINV(x):\n",
    "    NORMSINV = si.norm.ppf(x,0.0,1.0)\n",
    "    return(NORMSINV)\n",
    "RAND = np.random.standard_normal()"
   ]
  },
  {
   "cell_type": "markdown",
   "metadata": {},
   "source": [
    "# Parametric VaR"
   ]
  },
  {
   "cell_type": "code",
   "execution_count": 3,
   "metadata": {},
   "outputs": [],
   "source": [
    "sigma = 0.01 # Daily Standard Deviation (Volatility) \n",
    "confidence = 0.99 # Confidence Level"
   ]
  },
  {
   "cell_type": "code",
   "execution_count": 4,
   "metadata": {},
   "outputs": [
    {
     "name": "stdout",
     "output_type": "stream",
     "text": [
      "The 1-day Parametric Value at Risk is: 2.33%\n"
     ]
    }
   ],
   "source": [
    "# 1-day Value at Risk (VaR)\n",
    "VaR_1_day = NORMSINV(confidence) * sigma\n",
    "print(\"The 1-day Parametric Value at Risk is:\", \"{:.2%}\".format(VaR_1_day))"
   ]
  },
  {
   "cell_type": "markdown",
   "metadata": {},
   "source": [
    "### Extended over Target Horizon (i.i.d)"
   ]
  },
  {
   "cell_type": "code",
   "execution_count": 5,
   "metadata": {},
   "outputs": [
    {
     "name": "stdout",
     "output_type": "stream",
     "text": [
      "The 10 days Parametric Value at Risk is 7.36%\n"
     ]
    }
   ],
   "source": [
    "horizon = 10 # Target Horizon (days)\n",
    "vol = sigma*np.sqrt(horizon) # Standard deviation (i.i.d)\n",
    "VaR_horizon = NORMSINV(confidence) * vol\n",
    "print(\"The\", horizon,\"days Parametric Value at Risk is\", \"{:.2%}\".format(VaR_horizon))"
   ]
  },
  {
   "cell_type": "markdown",
   "metadata": {},
   "source": [
    "### Extended over Target Horizon (autocorrelated)"
   ]
  },
  {
   "cell_type": "code",
   "execution_count": 6,
   "metadata": {},
   "outputs": [],
   "source": [
    "AC = 0 # Autocorrelation"
   ]
  },
  {
   "cell_type": "code",
   "execution_count": 7,
   "metadata": {},
   "outputs": [
    {
     "name": "stdout",
     "output_type": "stream",
     "text": [
      "The Parametric Value at Risk over 10 days (with autocorr.) is 7.36%\n"
     ]
    }
   ],
   "source": [
    "Scaling_factor = horizon+2*(AC/(1-AC)**2)*((horizon-1)*(1-AC)-AC*(1-AC**(horizon-1)))\n",
    "sdwa = sigma*np.sqrt(Scaling_factor) # Standard deviation (with autocorr.)\n",
    "VaR_over_horizon_with_autocorr = NORMSINV(confidence)*sdwa\n",
    "print(\"The Parametric Value at Risk over\", horizon,\"days (with autocorr.) is\", \"{:.2%}\".format(VaR_over_horizon_with_autocorr))"
   ]
  },
  {
   "cell_type": "markdown",
   "metadata": {},
   "source": [
    "# Historical Simulation (HS) VaR"
   ]
  },
  {
   "cell_type": "code",
   "execution_count": 8,
   "metadata": {},
   "outputs": [
    {
     "name": "stdout",
     "output_type": "stream",
     "text": [
      "[-0.01581185  0.01451535 -0.00298519 -0.00967593  0.00480505  0.00180856\n",
      "  0.0196722  -0.00523841  0.00479897 -0.00714014  0.00803092 -0.00010204\n",
      "  0.00112336  0.01739314 -0.0250612   0.00434298  0.01233002 -0.00373183\n",
      " -0.0024688  -0.0034219  -0.00367294 -0.00528201  0.00285701  0.01227396\n",
      "  0.00851245 -0.01075358 -0.0071908  -0.00118816 -0.00286551  0.01393691]\n"
     ]
    }
   ],
   "source": [
    "i = np.random.normal(0,sigma,30)\n",
    "print(i)"
   ]
  },
  {
   "cell_type": "code",
   "execution_count": 9,
   "metadata": {},
   "outputs": [
    {
     "name": "stdout",
     "output_type": "stream",
     "text": [
      "['t-1', 't-2', 't-3', 't-4', 't-5', 't-6', 't-7', 't-8', 't-9', 't-10', 't-11', 't-12', 't-13', 't-14', 't-15', 't-16', 't-17', 't-18', 't-19', 't-20', 't-21', 't-22', 't-23', 't-24', 't-25', 't-26', 't-27', 't-28', 't-29', 't-30']\n"
     ]
    }
   ],
   "source": [
    "t = [\"t-1\", \"t-2\", \"t-3\", \"t-4\", \"t-5\", \"t-6\", \"t-7\", \"t-8\", \"t-9\", \"t-10\",\n",
    "          \"t-11\", \"t-12\", \"t-13\", \"t-14\", \"t-15\", \"t-16\", \"t-17\", \"t-18\", \"t-19\", \"t-20\",\n",
    "          \"t-21\", \"t-22\", \"t-23\", \"t-24\", \"t-25\", \"t-26\", \"t-27\", \"t-28\", \"t-29\", \"t-30\"]\n",
    "print(t)"
   ]
  },
  {
   "cell_type": "code",
   "execution_count": 10,
   "metadata": {},
   "outputs": [],
   "source": [
    "df = pd.DataFrame({\"Period\": t, \"Return\": i})"
   ]
  },
  {
   "cell_type": "code",
   "execution_count": 11,
   "metadata": {},
   "outputs": [
    {
     "data": {
      "text/html": [
       "<div>\n",
       "<style scoped>\n",
       "    .dataframe tbody tr th:only-of-type {\n",
       "        vertical-align: middle;\n",
       "    }\n",
       "\n",
       "    .dataframe tbody tr th {\n",
       "        vertical-align: top;\n",
       "    }\n",
       "\n",
       "    .dataframe thead th {\n",
       "        text-align: right;\n",
       "    }\n",
       "</style>\n",
       "<table border=\"1\" class=\"dataframe\">\n",
       "  <thead>\n",
       "    <tr style=\"text-align: right;\">\n",
       "      <th></th>\n",
       "      <th>Period</th>\n",
       "      <th>Return</th>\n",
       "    </tr>\n",
       "  </thead>\n",
       "  <tbody>\n",
       "    <tr>\n",
       "      <th>0</th>\n",
       "      <td>t-1</td>\n",
       "      <td>-0.015812</td>\n",
       "    </tr>\n",
       "    <tr>\n",
       "      <th>1</th>\n",
       "      <td>t-2</td>\n",
       "      <td>0.014515</td>\n",
       "    </tr>\n",
       "    <tr>\n",
       "      <th>2</th>\n",
       "      <td>t-3</td>\n",
       "      <td>-0.002985</td>\n",
       "    </tr>\n",
       "    <tr>\n",
       "      <th>3</th>\n",
       "      <td>t-4</td>\n",
       "      <td>-0.009676</td>\n",
       "    </tr>\n",
       "    <tr>\n",
       "      <th>4</th>\n",
       "      <td>t-5</td>\n",
       "      <td>0.004805</td>\n",
       "    </tr>\n",
       "    <tr>\n",
       "      <th>5</th>\n",
       "      <td>t-6</td>\n",
       "      <td>0.001809</td>\n",
       "    </tr>\n",
       "    <tr>\n",
       "      <th>6</th>\n",
       "      <td>t-7</td>\n",
       "      <td>0.019672</td>\n",
       "    </tr>\n",
       "    <tr>\n",
       "      <th>7</th>\n",
       "      <td>t-8</td>\n",
       "      <td>-0.005238</td>\n",
       "    </tr>\n",
       "    <tr>\n",
       "      <th>8</th>\n",
       "      <td>t-9</td>\n",
       "      <td>0.004799</td>\n",
       "    </tr>\n",
       "    <tr>\n",
       "      <th>9</th>\n",
       "      <td>t-10</td>\n",
       "      <td>-0.007140</td>\n",
       "    </tr>\n",
       "    <tr>\n",
       "      <th>10</th>\n",
       "      <td>t-11</td>\n",
       "      <td>0.008031</td>\n",
       "    </tr>\n",
       "    <tr>\n",
       "      <th>11</th>\n",
       "      <td>t-12</td>\n",
       "      <td>-0.000102</td>\n",
       "    </tr>\n",
       "    <tr>\n",
       "      <th>12</th>\n",
       "      <td>t-13</td>\n",
       "      <td>0.001123</td>\n",
       "    </tr>\n",
       "    <tr>\n",
       "      <th>13</th>\n",
       "      <td>t-14</td>\n",
       "      <td>0.017393</td>\n",
       "    </tr>\n",
       "    <tr>\n",
       "      <th>14</th>\n",
       "      <td>t-15</td>\n",
       "      <td>-0.025061</td>\n",
       "    </tr>\n",
       "    <tr>\n",
       "      <th>15</th>\n",
       "      <td>t-16</td>\n",
       "      <td>0.004343</td>\n",
       "    </tr>\n",
       "    <tr>\n",
       "      <th>16</th>\n",
       "      <td>t-17</td>\n",
       "      <td>0.012330</td>\n",
       "    </tr>\n",
       "    <tr>\n",
       "      <th>17</th>\n",
       "      <td>t-18</td>\n",
       "      <td>-0.003732</td>\n",
       "    </tr>\n",
       "    <tr>\n",
       "      <th>18</th>\n",
       "      <td>t-19</td>\n",
       "      <td>-0.002469</td>\n",
       "    </tr>\n",
       "    <tr>\n",
       "      <th>19</th>\n",
       "      <td>t-20</td>\n",
       "      <td>-0.003422</td>\n",
       "    </tr>\n",
       "    <tr>\n",
       "      <th>20</th>\n",
       "      <td>t-21</td>\n",
       "      <td>-0.003673</td>\n",
       "    </tr>\n",
       "    <tr>\n",
       "      <th>21</th>\n",
       "      <td>t-22</td>\n",
       "      <td>-0.005282</td>\n",
       "    </tr>\n",
       "    <tr>\n",
       "      <th>22</th>\n",
       "      <td>t-23</td>\n",
       "      <td>0.002857</td>\n",
       "    </tr>\n",
       "    <tr>\n",
       "      <th>23</th>\n",
       "      <td>t-24</td>\n",
       "      <td>0.012274</td>\n",
       "    </tr>\n",
       "    <tr>\n",
       "      <th>24</th>\n",
       "      <td>t-25</td>\n",
       "      <td>0.008512</td>\n",
       "    </tr>\n",
       "    <tr>\n",
       "      <th>25</th>\n",
       "      <td>t-26</td>\n",
       "      <td>-0.010754</td>\n",
       "    </tr>\n",
       "    <tr>\n",
       "      <th>26</th>\n",
       "      <td>t-27</td>\n",
       "      <td>-0.007191</td>\n",
       "    </tr>\n",
       "    <tr>\n",
       "      <th>27</th>\n",
       "      <td>t-28</td>\n",
       "      <td>-0.001188</td>\n",
       "    </tr>\n",
       "    <tr>\n",
       "      <th>28</th>\n",
       "      <td>t-29</td>\n",
       "      <td>-0.002866</td>\n",
       "    </tr>\n",
       "    <tr>\n",
       "      <th>29</th>\n",
       "      <td>t-30</td>\n",
       "      <td>0.013937</td>\n",
       "    </tr>\n",
       "  </tbody>\n",
       "</table>\n",
       "</div>"
      ],
      "text/plain": [
       "   Period    Return\n",
       "0     t-1 -0.015812\n",
       "1     t-2  0.014515\n",
       "2     t-3 -0.002985\n",
       "3     t-4 -0.009676\n",
       "4     t-5  0.004805\n",
       "5     t-6  0.001809\n",
       "6     t-7  0.019672\n",
       "7     t-8 -0.005238\n",
       "8     t-9  0.004799\n",
       "9    t-10 -0.007140\n",
       "10   t-11  0.008031\n",
       "11   t-12 -0.000102\n",
       "12   t-13  0.001123\n",
       "13   t-14  0.017393\n",
       "14   t-15 -0.025061\n",
       "15   t-16  0.004343\n",
       "16   t-17  0.012330\n",
       "17   t-18 -0.003732\n",
       "18   t-19 -0.002469\n",
       "19   t-20 -0.003422\n",
       "20   t-21 -0.003673\n",
       "21   t-22 -0.005282\n",
       "22   t-23  0.002857\n",
       "23   t-24  0.012274\n",
       "24   t-25  0.008512\n",
       "25   t-26 -0.010754\n",
       "26   t-27 -0.007191\n",
       "27   t-28 -0.001188\n",
       "28   t-29 -0.002866\n",
       "29   t-30  0.013937"
      ]
     },
     "execution_count": 11,
     "metadata": {},
     "output_type": "execute_result"
    }
   ],
   "source": [
    "df"
   ]
  },
  {
   "cell_type": "code",
   "execution_count": 12,
   "metadata": {},
   "outputs": [
    {
     "name": "stdout",
     "output_type": "stream",
     "text": [
      "The Historical Simulation Value at Risk is 2.24%\n"
     ]
    }
   ],
   "source": [
    "significance = 1 - confidence\n",
    "VaR_HS = abs(np.percentile(df.Return, round(significance*100,0)))\n",
    "print(\"The Historical Simulation Value at Risk is\", \"{:.2%}\".format(VaR_HS))"
   ]
  }
 ],
 "metadata": {
  "kernelspec": {
   "display_name": "Python 3",
   "language": "python",
   "name": "python3"
  },
  "language_info": {
   "codemirror_mode": {
    "name": "ipython",
    "version": 3
   },
   "file_extension": ".py",
   "mimetype": "text/x-python",
   "name": "python",
   "nbconvert_exporter": "python",
   "pygments_lexer": "ipython3",
   "version": "3.7.6"
  }
 },
 "nbformat": 4,
 "nbformat_minor": 4
}
