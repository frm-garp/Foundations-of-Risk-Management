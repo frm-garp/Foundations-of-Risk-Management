{
 "cells": [
  {
   "cell_type": "code",
   "execution_count": 1,
   "metadata": {},
   "outputs": [],
   "source": [
    "import pandas as pd\n",
    "import numpy as np\n",
    "import scipy.stats as si"
   ]
  },
  {
   "cell_type": "markdown",
   "metadata": {},
   "source": [
    "# SECURITY MARKET LINE"
   ]
  },
  {
   "cell_type": "code",
   "execution_count": 2,
   "metadata": {},
   "outputs": [],
   "source": [
    "RF = 0.07 # Riskless rate"
   ]
  },
  {
   "cell_type": "code",
   "execution_count": 3,
   "metadata": {},
   "outputs": [],
   "source": [
    "# Asset A\n",
    "mean1 = 0.1 # Exp Return\n",
    "vol1 = 0.1 # Std Deviation\n",
    "varia1 = vol1**2 # Variance"
   ]
  },
  {
   "cell_type": "code",
   "execution_count": 4,
   "metadata": {},
   "outputs": [],
   "source": [
    "# Asset B\n",
    "mean2 = 0.15 # Exp Return\n",
    "vol2 = 0.2 # Std Deviation\n",
    "varia2 = vol2**2 # Variance"
   ]
  },
  {
   "cell_type": "code",
   "execution_count": 5,
   "metadata": {},
   "outputs": [],
   "source": [
    "Corr = 0.2 # Correlation\n",
    "cov = vol1*vol2*Corr # Covariance"
   ]
  },
  {
   "cell_type": "code",
   "execution_count": 6,
   "metadata": {},
   "outputs": [
    {
     "name": "stdout",
     "output_type": "stream",
     "text": [
      "The % in Asset A is: 56.41%\n"
     ]
    }
   ],
   "source": [
    "M_Weight_A = 0.564102564017103 # % in Asset A for the Market Portfolio (M)\n",
    "print(\"The % in Asset A is:\", \"{:.2%}\".format(M_Weight_A))"
   ]
  },
  {
   "cell_type": "markdown",
   "metadata": {},
   "source": [
    "## Market Portfolio (M)"
   ]
  },
  {
   "cell_type": "code",
   "execution_count": 7,
   "metadata": {},
   "outputs": [
    {
     "name": "stdout",
     "output_type": "stream",
     "text": [
      "The % in Asset B is: 43.59%\n",
      "The Market Portfolio Exp return is: 12.18%\n",
      "The Market Portfolio Volatility is: 11.29%\n",
      "The Market Portfolio excess return is: 5.18%\n"
     ]
    }
   ],
   "source": [
    "M_Weight_B = 1-M_Weight_A # % in Asset B for the Market Portfolio (M)\n",
    "print(\"The % in Asset B is:\", \"{:.2%}\".format(M_Weight_B))\n",
    "M_mean = M_Weight_A*mean1+M_Weight_B*mean2 # Exp return, M\n",
    "print(\"The Market Portfolio Exp return is:\", \"{:.2%}\".format(M_mean))\n",
    "M_vol = np.sqrt((M_Weight_A*vol1)**2+(M_Weight_B*vol2)**2+2*(M_Weight_A*M_Weight_B)*cov) # Volatility, M\n",
    "print(\"The Market Portfolio Volatility is:\", \"{:.2%}\".format(M_vol))\n",
    "ERP = M_mean-RF\n",
    "print(\"The Market Portfolio excess return is:\", \"{:.2%}\".format(ERP))"
   ]
  },
  {
   "cell_type": "code",
   "execution_count": 8,
   "metadata": {},
   "outputs": [
    {
     "name": "stdout",
     "output_type": "stream",
     "text": [
      "The Market portfolio maximizes Sharpe ratio is: 0.46\n"
     ]
    }
   ],
   "source": [
    "# Market portfolio maximizes Sharpe ratio\n",
    "Sharpe_ratio = ERP/M_vol\n",
    "print(\"The Market portfolio maximizes Sharpe ratio is:\", round((Sharpe_ratio),2))"
   ]
  },
  {
   "cell_type": "markdown",
   "metadata": {},
   "source": [
    "# Portfolio X"
   ]
  },
  {
   "cell_type": "code",
   "execution_count": 9,
   "metadata": {},
   "outputs": [],
   "source": [
    "# Portfolio X\n",
    "X_mean = 0.16 # Exp Return\n",
    "X_vol = 0.2 # Volatility (Std Dev)\n",
    "Beta = 1.5\n",
    "w = 0.03 # Tracking Error\n",
    "T = 5 # Years of observations"
   ]
  },
  {
   "cell_type": "markdown",
   "metadata": {},
   "source": [
    "# PERFORMANCE MEASURES"
   ]
  },
  {
   "cell_type": "code",
   "execution_count": 10,
   "metadata": {},
   "outputs": [
    {
     "name": "stdout",
     "output_type": "stream",
     "text": [
      "The Treynor measure of Portfolio X is: 0.06\n"
     ]
    }
   ],
   "source": [
    "Treynor = (X_mean-RF)/Beta\n",
    "print(\"The Treynor measure of Portfolio X is:\", round((Treynor),3))"
   ]
  },
  {
   "cell_type": "code",
   "execution_count": 11,
   "metadata": {},
   "outputs": [
    {
     "name": "stdout",
     "output_type": "stream",
     "text": [
      "The Sharpe ratio of Portfolio X is: 0.45\n"
     ]
    }
   ],
   "source": [
    "Sharpe = (X_mean-RF)/X_vol  # Sharpe ratio\n",
    "print(\"The Sharpe ratio of Portfolio X is:\", round((Sharpe),3))"
   ]
  },
  {
   "cell_type": "code",
   "execution_count": 12,
   "metadata": {},
   "outputs": [
    {
     "name": "stdout",
     "output_type": "stream",
     "text": [
      "The Jensen alpha of Portfolio X is: 0.012\n"
     ]
    }
   ],
   "source": [
    "Jensen = (X_mean-RF)-(ERP*Beta) # Jensen alpha\n",
    "print(\"The Jensen alpha of Portfolio X is:\", round((Jensen),3))"
   ]
  },
  {
   "cell_type": "code",
   "execution_count": 13,
   "metadata": {},
   "outputs": [
    {
     "name": "stdout",
     "output_type": "stream",
     "text": [
      "The Information ratio of Portfolio X is: 0.41\n"
     ]
    }
   ],
   "source": [
    "IR = Jensen/w # Information ratio\n",
    "print(\"The Information ratio of Portfolio X is:\", round((IR),3))"
   ]
  },
  {
   "cell_type": "code",
   "execution_count": 14,
   "metadata": {},
   "outputs": [
    {
     "name": "stdout",
     "output_type": "stream",
     "text": [
      "The t statistic of Portfolio X is: 0.917\n"
     ]
    }
   ],
   "source": [
    "t_s = IR*np.sqrt(T) # t statistic\n",
    "print(\"The t statistic of Portfolio X is:\", round((t_s),3))"
   ]
  },
  {
   "cell_type": "markdown",
   "metadata": {},
   "source": [
    "# Selected Portfolios (Note they are all on the SML)"
   ]
  },
  {
   "cell_type": "code",
   "execution_count": 15,
   "metadata": {},
   "outputs": [
    {
     "data": {
      "text/plain": [
       "[1.5, 1.0, 0.5, 0.0, -0.5, -1.0]"
      ]
     },
     "execution_count": 15,
     "metadata": {},
     "output_type": "execute_result"
    }
   ],
   "source": [
    "Weight_A = [1.5, 1.0, 0.5, 0.0, -0.5, -1.0]\n",
    "Weight_A"
   ]
  },
  {
   "cell_type": "code",
   "execution_count": 16,
   "metadata": {},
   "outputs": [
    {
     "data": {
      "text/plain": [
       "[-0.5, 0.0, 0.5, 1.0, 1.5, 2.0]"
      ]
     },
     "execution_count": 16,
     "metadata": {},
     "output_type": "execute_result"
    }
   ],
   "source": [
    "Weight_B = []\n",
    "for i in range(0,len(Weight_A)):\n",
    "    Weight_B.append(1-Weight_A[i])\n",
    "Weight_B    "
   ]
  },
  {
   "cell_type": "code",
   "execution_count": 17,
   "metadata": {},
   "outputs": [
    {
     "data": {
      "text/plain": [
       "[0.001230769228461783,\n",
       " 0.00738461538410262,\n",
       " 0.013538461539743456,\n",
       " 0.019692307695384294,\n",
       " 0.02584615385102513,\n",
       " 0.03200000000666597]"
      ]
     },
     "execution_count": 17,
     "metadata": {},
     "output_type": "execute_result"
    }
   ],
   "source": [
    "COVA = []\n",
    "for i in range(0,len(Weight_A)):\n",
    "    COVA.append(Weight_A[i]*M_Weight_A*varia1+Weight_B[i]*M_Weight_B*varia2+(Weight_A[i]*M_Weight_B+Weight_B[i]*M_Weight_A)*cov)\n",
    "COVA    "
   ]
  },
  {
   "cell_type": "code",
   "execution_count": 18,
   "metadata": {},
   "outputs": [
    {
     "data": {
      "text/plain": [
       "[0.09653465326843508,\n",
       " 0.5792079206562919,\n",
       " 1.0618811880441488,\n",
       " 1.5445544554320056,\n",
       " 2.027227722819862,\n",
       " 2.509900990207719]"
      ]
     },
     "execution_count": 18,
     "metadata": {},
     "output_type": "execute_result"
    }
   ],
   "source": [
    "BETA = []\n",
    "for i in range(0,len(Weight_A)):\n",
    "    BETA.append(COVA[i]/M_vol**2)\n",
    "BETA    "
   ]
  },
  {
   "cell_type": "code",
   "execution_count": 19,
   "metadata": {},
   "outputs": [
    {
     "data": {
      "text/plain": [
       "[0.0749999999902135,\n",
       " 0.0999999999954419,\n",
       " 0.12500000000067032,\n",
       " 0.15000000000589875,\n",
       " 0.17500000001112712,\n",
       " 0.20000000001635554]"
      ]
     },
     "execution_count": 19,
     "metadata": {},
     "output_type": "execute_result"
    }
   ],
   "source": [
    "SML = []\n",
    "for i in range(0,len(Weight_A)):\n",
    "    SML.append(RF+BETA[i]*ERP)\n",
    "SML    "
   ]
  },
  {
   "cell_type": "code",
   "execution_count": 20,
   "metadata": {},
   "outputs": [
    {
     "data": {
      "text/plain": [
       "[0.07500000000000002, 0.1, 0.125, 0.15, 0.175, 0.19999999999999998]"
      ]
     },
     "execution_count": 20,
     "metadata": {},
     "output_type": "execute_result"
    }
   ],
   "source": [
    "Expected = []\n",
    "for i in range(0,len(Weight_A)):\n",
    "    Expected.append(Weight_A[i]*mean1 + Weight_B[i]*mean2)\n",
    "Expected"
   ]
  },
  {
   "cell_type": "code",
   "execution_count": 21,
   "metadata": {},
   "outputs": [
    {
     "data": {
      "text/html": [
       "<div>\n",
       "<style scoped>\n",
       "    .dataframe tbody tr th:only-of-type {\n",
       "        vertical-align: middle;\n",
       "    }\n",
       "\n",
       "    .dataframe tbody tr th {\n",
       "        vertical-align: top;\n",
       "    }\n",
       "\n",
       "    .dataframe thead th {\n",
       "        text-align: right;\n",
       "    }\n",
       "</style>\n",
       "<table border=\"1\" class=\"dataframe\">\n",
       "  <thead>\n",
       "    <tr style=\"text-align: right;\">\n",
       "      <th></th>\n",
       "      <th>Asset A</th>\n",
       "      <th>Asset B</th>\n",
       "      <th>Covariance (Port, Market)</th>\n",
       "      <th>Beta</th>\n",
       "      <th>Expected Return (beta)</th>\n",
       "      <th>Expected return (checking)</th>\n",
       "    </tr>\n",
       "  </thead>\n",
       "  <tbody>\n",
       "    <tr>\n",
       "      <th>0</th>\n",
       "      <td>1.5</td>\n",
       "      <td>-0.5</td>\n",
       "      <td>0.001231</td>\n",
       "      <td>0.096535</td>\n",
       "      <td>0.075</td>\n",
       "      <td>0.075</td>\n",
       "    </tr>\n",
       "    <tr>\n",
       "      <th>1</th>\n",
       "      <td>1.0</td>\n",
       "      <td>0.0</td>\n",
       "      <td>0.007385</td>\n",
       "      <td>0.579208</td>\n",
       "      <td>0.100</td>\n",
       "      <td>0.100</td>\n",
       "    </tr>\n",
       "    <tr>\n",
       "      <th>2</th>\n",
       "      <td>0.5</td>\n",
       "      <td>0.5</td>\n",
       "      <td>0.013538</td>\n",
       "      <td>1.061881</td>\n",
       "      <td>0.125</td>\n",
       "      <td>0.125</td>\n",
       "    </tr>\n",
       "    <tr>\n",
       "      <th>3</th>\n",
       "      <td>0.0</td>\n",
       "      <td>1.0</td>\n",
       "      <td>0.019692</td>\n",
       "      <td>1.544554</td>\n",
       "      <td>0.150</td>\n",
       "      <td>0.150</td>\n",
       "    </tr>\n",
       "    <tr>\n",
       "      <th>4</th>\n",
       "      <td>-0.5</td>\n",
       "      <td>1.5</td>\n",
       "      <td>0.025846</td>\n",
       "      <td>2.027228</td>\n",
       "      <td>0.175</td>\n",
       "      <td>0.175</td>\n",
       "    </tr>\n",
       "    <tr>\n",
       "      <th>5</th>\n",
       "      <td>-1.0</td>\n",
       "      <td>2.0</td>\n",
       "      <td>0.032000</td>\n",
       "      <td>2.509901</td>\n",
       "      <td>0.200</td>\n",
       "      <td>0.200</td>\n",
       "    </tr>\n",
       "  </tbody>\n",
       "</table>\n",
       "</div>"
      ],
      "text/plain": [
       "   Asset A  Asset B  Covariance (Port, Market)      Beta  \\\n",
       "0      1.5     -0.5                   0.001231  0.096535   \n",
       "1      1.0      0.0                   0.007385  0.579208   \n",
       "2      0.5      0.5                   0.013538  1.061881   \n",
       "3      0.0      1.0                   0.019692  1.544554   \n",
       "4     -0.5      1.5                   0.025846  2.027228   \n",
       "5     -1.0      2.0                   0.032000  2.509901   \n",
       "\n",
       "   Expected Return (beta)  Expected return (checking)  \n",
       "0                   0.075                       0.075  \n",
       "1                   0.100                       0.100  \n",
       "2                   0.125                       0.125  \n",
       "3                   0.150                       0.150  \n",
       "4                   0.175                       0.175  \n",
       "5                   0.200                       0.200  "
      ]
     },
     "execution_count": 21,
     "metadata": {},
     "output_type": "execute_result"
    }
   ],
   "source": [
    "df = pd.DataFrame({\"Asset A\": Weight_A, \"Asset B\":Weight_B, \"Covariance (Port, Market)\":COVA, \"Beta\":BETA, \"Expected Return (beta)\": SML, \"Expected return (checking)\": Expected})\n",
    "df"
   ]
  },
  {
   "cell_type": "code",
   "execution_count": 22,
   "metadata": {},
   "outputs": [
    {
     "data": {
      "image/png": "[encoded data removed]",
      "text/plain": [
       "<Figure size 360x360 with 1 Axes>"
      ]
     },
     "metadata": {
      "needs_background": "light"
     },
     "output_type": "display_data"
    }
   ],
   "source": [
    "import matplotlib.pyplot as plt\n",
    "fig = plt.figure(figsize=(5,5))\n",
    "SML1 = plt.plot(df['Beta'], df['Expected Return (beta)'], label='CML', color = 'blue', linewidth = 7.0)\n",
    "plt.title('SML')\n",
    "plt.xlabel('Beta')\n",
    "plt.ylabel('Expected Return')\n",
    "plt.legend()\n",
    "plt.show()"
   ]
  }
 ],
 "metadata": {
  "kernelspec": {
   "display_name": "Python 3",
   "language": "python",
   "name": "python3"
  },
  "language_info": {
   "codemirror_mode": {
    "name": "ipython",
    "version": 3
   },
   "file_extension": ".py",
   "mimetype": "text/x-python",
   "name": "python",
   "nbconvert_exporter": "python",
   "pygments_lexer": "ipython3",
   "version": "3.7.6"
  }
 },
 "nbformat": 4,
 "nbformat_minor": 4
}
