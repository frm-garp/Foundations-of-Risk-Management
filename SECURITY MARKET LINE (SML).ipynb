{
 "cells": [
  {
   "cell_type": "code",
   "execution_count": 1,
   "metadata": {},
   "outputs": [],
   "source": [
    "import pandas as pd\n",
    "import numpy as np\n",
    "import scipy.stats as si"
   ]
  },
  {
   "cell_type": "code",
   "execution_count": 2,
   "metadata": {},
   "outputs": [],
   "source": [
    "RF = 0.07 # Riskless rate"
   ]
  },
  {
   "cell_type": "code",
   "execution_count": 3,
   "metadata": {},
   "outputs": [],
   "source": [
    "# Asset A\n",
    "mean1 = 0.1 # Exp Return\n",
    "vol1 = 0.1 # Std Deviation\n",
    "varia1 = vol1**2 # Variance"
   ]
  },
  {
   "cell_type": "code",
   "execution_count": 4,
   "metadata": {},
   "outputs": [],
   "source": [
    "# Asset B\n",
    "mean2 = 0.15 # Exp Return\n",
    "vol2 = 0.2 # Std Deviation\n",
    "varia2 = vol2**2 # Variance"
   ]
  },
  {
   "cell_type": "code",
   "execution_count": 5,
   "metadata": {},
   "outputs": [],
   "source": [
    "Corr = 0.2 # Correlation\n",
    "cov = vol1*vol2*Corr # Covariance"
   ]
  },
  {
   "cell_type": "code",
   "execution_count": 6,
   "metadata": {},
   "outputs": [
    {
     "name": "stdout",
     "output_type": "stream",
     "text": [
      "The % in Asset A is: 56.40%\n"
     ]
    }
   ],
   "source": [
    "M_Weight_A = 0.564 # % in Asset A for the Market Portfolio (M)\n",
    "print(\"The % in Asset A is:\", \"{:.2%}\".format(M_Weight_A))"
   ]
  },
  {
   "cell_type": "markdown",
   "metadata": {},
   "source": [
    "## Market Portfolio (M)"
   ]
  },
  {
   "cell_type": "code",
   "execution_count": 7,
   "metadata": {},
   "outputs": [
    {
     "name": "stdout",
     "output_type": "stream",
     "text": [
      "The % in Asset B is: 43.60%\n",
      "The Market Portfolio Exp return is: 12.18%\n",
      "The Market Portfolio Volatility is: 11.29%\n",
      "The Market Portfolio excess return is: 5.18%\n"
     ]
    }
   ],
   "source": [
    "M_Weight_B = 1-M_Weight_A # % in Asset B for the Market Portfolio (M)\n",
    "print(\"The % in Asset B is:\", \"{:.2%}\".format(M_Weight_B))\n",
    "M_mean = M_Weight_A*mean1+M_Weight_B*mean2 # Exp return, M\n",
    "print(\"The Market Portfolio Exp return is:\", \"{:.2%}\".format(M_mean))\n",
    "M_vol = np.sqrt((M_Weight_A*vol1)**2+(M_Weight_B*vol2)**2+2*(M_Weight_A*M_Weight_B)*cov) # Volatility, M\n",
    "print(\"The Market Portfolio Volatility is:\", \"{:.2%}\".format(M_vol))\n",
    "ERP = M_mean-RF\n",
    "print(\"The Market Portfolio excess return is:\", \"{:.2%}\".format(ERP))"
   ]
  },
  {
   "cell_type": "markdown",
   "metadata": {},
   "source": [
    "# Selected Portfolios (Note they are all on the SML)"
   ]
  },
  {
   "cell_type": "code",
   "execution_count": 8,
   "metadata": {},
   "outputs": [
    {
     "data": {
      "text/plain": [
       "[1.6, 1.0, 0.5, 0.564, 0.0, -0.5, -1.0]"
      ]
     },
     "execution_count": 8,
     "metadata": {},
     "output_type": "execute_result"
    }
   ],
   "source": [
    "Weight_A = [1.6, 1.0, 0.5, M_Weight_A, 0.0, -0.5, -1.0]\n",
    "Weight_A"
   ]
  },
  {
   "cell_type": "code",
   "execution_count": 9,
   "metadata": {},
   "outputs": [
    {
     "data": {
      "text/plain": [
       "[-0.6000000000000001, 0.0, 0.5, 0.43600000000000005, 1.0, 1.5, 2.0]"
      ]
     },
     "execution_count": 9,
     "metadata": {},
     "output_type": "execute_result"
    }
   ],
   "source": [
    "Weight_B = []\n",
    "for i in range(0,len(Weight_A)):\n",
    "    Weight_B.append(1-Weight_A[i])\n",
    "Weight_B    "
   ]
  },
  {
   "cell_type": "code",
   "execution_count": 10,
   "metadata": {},
   "outputs": [
    {
     "data": {
      "text/plain": [
       "[-3.2000000000031135e-06,\n",
       " 0.007384000000000002,\n",
       " 0.013540000000000002,\n",
       " 0.012752032000000005,\n",
       " 0.019696000000000005,\n",
       " 0.02585200000000001,\n",
       " 0.03200800000000001]"
      ]
     },
     "execution_count": 10,
     "metadata": {},
     "output_type": "execute_result"
    }
   ],
   "source": [
    "COVA = []\n",
    "for i in range(0,len(Weight_A)):\n",
    "    COVA.append(Weight_A[i]*M_Weight_A*varia1+Weight_B[i]*M_Weight_B*varia2+(Weight_A[i]*M_Weight_B+Weight_B[i]*M_Weight_A)*cov)\n",
    "COVA    "
   ]
  },
  {
   "cell_type": "code",
   "execution_count": 11,
   "metadata": {},
   "outputs": [
    {
     "data": {
      "text/plain": [
       "[-0.00025094039914604294,\n",
       " 0.5790449710289308,\n",
       " 1.0617915638856612,\n",
       " 1.0,\n",
       " 1.544538156742392,\n",
       " 2.0272847495991226,\n",
       " 2.510031342455853]"
      ]
     },
     "execution_count": 11,
     "metadata": {},
     "output_type": "execute_result"
    }
   ],
   "source": [
    "BETA = []\n",
    "for i in range(0,len(Weight_A)):\n",
    "    BETA.append(COVA[i]/M_vol**2)\n",
    "BETA    "
   ]
  },
  {
   "cell_type": "code",
   "execution_count": 12,
   "metadata": {},
   "outputs": [
    {
     "data": {
      "text/plain": [
       "[0.06998700128732424,\n",
       " 0.09999452949929862,\n",
       " 0.12500080300927724,\n",
       " 0.12179999999999999,\n",
       " 0.15000707651925588,\n",
       " 0.17501335002923452,\n",
       " 0.20001962353921315]"
      ]
     },
     "execution_count": 12,
     "metadata": {},
     "output_type": "execute_result"
    }
   ],
   "source": [
    "SML = []\n",
    "for i in range(0,len(Weight_A)):\n",
    "    SML.append(RF+BETA[i]*ERP)\n",
    "SML    "
   ]
  },
  {
   "cell_type": "code",
   "execution_count": 13,
   "metadata": {},
   "outputs": [
    {
     "data": {
      "text/plain": [
       "[0.07000000000000002,\n",
       " 0.1,\n",
       " 0.125,\n",
       " 0.12179999999999999,\n",
       " 0.15,\n",
       " 0.175,\n",
       " 0.19999999999999998]"
      ]
     },
     "execution_count": 13,
     "metadata": {},
     "output_type": "execute_result"
    }
   ],
   "source": [
    "Expected = []\n",
    "for i in range(0,len(Weight_A)):\n",
    "    Expected.append(Weight_A[i]*mean1 + Weight_B[i]*mean2)\n",
    "Expected"
   ]
  },
  {
   "cell_type": "code",
   "execution_count": 14,
   "metadata": {},
   "outputs": [
    {
     "data": {
      "text/html": [
       "<div>\n",
       "<style scoped>\n",
       "    .dataframe tbody tr th:only-of-type {\n",
       "        vertical-align: middle;\n",
       "    }\n",
       "\n",
       "    .dataframe tbody tr th {\n",
       "        vertical-align: top;\n",
       "    }\n",
       "\n",
       "    .dataframe thead th {\n",
       "        text-align: right;\n",
       "    }\n",
       "</style>\n",
       "<table border=\"1\" class=\"dataframe\">\n",
       "  <thead>\n",
       "    <tr style=\"text-align: right;\">\n",
       "      <th></th>\n",
       "      <th>Asset A</th>\n",
       "      <th>Asset B</th>\n",
       "      <th>Covariance (Port, Market)</th>\n",
       "      <th>Beta</th>\n",
       "      <th>SML</th>\n",
       "      <th>Expected Return</th>\n",
       "    </tr>\n",
       "  </thead>\n",
       "  <tbody>\n",
       "    <tr>\n",
       "      <th>0</th>\n",
       "      <td>1.600</td>\n",
       "      <td>-0.600</td>\n",
       "      <td>-0.000003</td>\n",
       "      <td>-0.000251</td>\n",
       "      <td>0.069987</td>\n",
       "      <td>0.0700</td>\n",
       "    </tr>\n",
       "    <tr>\n",
       "      <th>1</th>\n",
       "      <td>1.000</td>\n",
       "      <td>0.000</td>\n",
       "      <td>0.007384</td>\n",
       "      <td>0.579045</td>\n",
       "      <td>0.099995</td>\n",
       "      <td>0.1000</td>\n",
       "    </tr>\n",
       "    <tr>\n",
       "      <th>2</th>\n",
       "      <td>0.500</td>\n",
       "      <td>0.500</td>\n",
       "      <td>0.013540</td>\n",
       "      <td>1.061792</td>\n",
       "      <td>0.125001</td>\n",
       "      <td>0.1250</td>\n",
       "    </tr>\n",
       "    <tr>\n",
       "      <th>3</th>\n",
       "      <td>0.564</td>\n",
       "      <td>0.436</td>\n",
       "      <td>0.012752</td>\n",
       "      <td>1.000000</td>\n",
       "      <td>0.121800</td>\n",
       "      <td>0.1218</td>\n",
       "    </tr>\n",
       "    <tr>\n",
       "      <th>4</th>\n",
       "      <td>0.000</td>\n",
       "      <td>1.000</td>\n",
       "      <td>0.019696</td>\n",
       "      <td>1.544538</td>\n",
       "      <td>0.150007</td>\n",
       "      <td>0.1500</td>\n",
       "    </tr>\n",
       "    <tr>\n",
       "      <th>5</th>\n",
       "      <td>-0.500</td>\n",
       "      <td>1.500</td>\n",
       "      <td>0.025852</td>\n",
       "      <td>2.027285</td>\n",
       "      <td>0.175013</td>\n",
       "      <td>0.1750</td>\n",
       "    </tr>\n",
       "    <tr>\n",
       "      <th>6</th>\n",
       "      <td>-1.000</td>\n",
       "      <td>2.000</td>\n",
       "      <td>0.032008</td>\n",
       "      <td>2.510031</td>\n",
       "      <td>0.200020</td>\n",
       "      <td>0.2000</td>\n",
       "    </tr>\n",
       "  </tbody>\n",
       "</table>\n",
       "</div>"
      ],
      "text/plain": [
       "   Asset A  Asset B  Covariance (Port, Market)      Beta       SML  \\\n",
       "0    1.600   -0.600                  -0.000003 -0.000251  0.069987   \n",
       "1    1.000    0.000                   0.007384  0.579045  0.099995   \n",
       "2    0.500    0.500                   0.013540  1.061792  0.125001   \n",
       "3    0.564    0.436                   0.012752  1.000000  0.121800   \n",
       "4    0.000    1.000                   0.019696  1.544538  0.150007   \n",
       "5   -0.500    1.500                   0.025852  2.027285  0.175013   \n",
       "6   -1.000    2.000                   0.032008  2.510031  0.200020   \n",
       "\n",
       "   Expected Return  \n",
       "0           0.0700  \n",
       "1           0.1000  \n",
       "2           0.1250  \n",
       "3           0.1218  \n",
       "4           0.1500  \n",
       "5           0.1750  \n",
       "6           0.2000  "
      ]
     },
     "execution_count": 14,
     "metadata": {},
     "output_type": "execute_result"
    }
   ],
   "source": [
    "df = pd.DataFrame({\"Asset A\": Weight_A, \"Asset B\":Weight_B, \"Covariance (Port, Market)\":COVA, \"Beta\":BETA, \"SML\": SML, \"Expected Return\": Expected})\n",
    "df"
   ]
  },
  {
   "cell_type": "code",
   "execution_count": 15,
   "metadata": {},
   "outputs": [
    {
     "data": {
      "image/png": "[encoded data removed]",
      "text/plain": [
       "<Figure size 720x720 with 1 Axes>"
      ]
     },
     "metadata": {
      "needs_background": "light"
     },
     "output_type": "display_data"
    }
   ],
   "source": [
    "import matplotlib.pyplot as plt\n",
    "fig = plt.figure(figsize=(10,10))\n",
    "SML1 = plt.plot(df['Beta'], df['SML'], label='CML', color = 'crimson', linewidth = 7.0)\n",
    "ER = plt.plot(df['Beta'], df['SML'], label='Expected Return', color = 'blue', linewidth = 2.0)\n",
    "plt.title('SML')\n",
    "plt.xlabel('Beta')\n",
    "plt.ylabel('Expected Return')\n",
    "plt.legend()\n",
    "plt.show()"
   ]
  },
  {
   "cell_type": "code",
   "execution_count": null,
   "metadata": {},
   "outputs": [],
   "source": []
  }
 ],
 "metadata": {
  "kernelspec": {
   "display_name": "Python 3",
   "language": "python",
   "name": "python3"
  },
  "language_info": {
   "codemirror_mode": {
    "name": "ipython",
    "version": 3
   },
   "file_extension": ".py",
   "mimetype": "text/x-python",
   "name": "python",
   "nbconvert_exporter": "python",
   "pygments_lexer": "ipython3",
   "version": "3.7.6"
  }
 },
 "nbformat": 4,
 "nbformat_minor": 4
}
